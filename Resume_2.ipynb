{
 "cells": [
  {
   "cell_type": "code",
   "execution_count": 7,
   "metadata": {
    "executionInfo": {
     "elapsed": 1022,
     "status": "ok",
     "timestamp": 1681578149887,
     "user": {
      "displayName": "U20CS004 SHAH DHRUMI ANKURBHAI",
      "userId": "15464465526827433624"
     },
     "user_tz": -330
    },
    "id": "1Ck5cMsPSjLY"
   },
   "outputs": [],
   "source": [
    "import numpy as np\n",
    "import pandas as pd\n",
    "import matplotlib.pyplot as plt\n",
    "import warnings\n",
    "warnings.filterwarnings('ignore')"
   ]
  },
  {
   "cell_type": "code",
   "execution_count": 8,
   "metadata": {
    "colab": {
     "base_uri": "https://localhost:8080/"
    },
    "executionInfo": {
     "elapsed": 4,
     "status": "ok",
     "timestamp": 1681579773894,
     "user": {
      "displayName": "U20CS004 SHAH DHRUMI ANKURBHAI",
      "userId": "15464465526827433624"
     },
     "user_tz": -330
    },
    "id": "36Zzu2CAb-IY",
    "outputId": "32737458-b254-4e91-e726-c94e20dbb73c"
   },
   "outputs": [
    {
     "data": {
      "text/plain": [
       "964"
      ]
     },
     "execution_count": 8,
     "metadata": {},
     "output_type": "execute_result"
    }
   ],
   "source": [
    "resumeData = pd.read_csv('ResumeDataSet.csv')\n",
    "original_len = len(resumeData)\n",
    "original_len"
   ]
  },
  {
   "cell_type": "code",
   "execution_count": 9,
   "metadata": {
    "colab": {
     "base_uri": "https://localhost:8080/",
     "height": 423
    },
    "executionInfo": {
     "elapsed": 22,
     "status": "ok",
     "timestamp": 1681578149889,
     "user": {
      "displayName": "U20CS004 SHAH DHRUMI ANKURBHAI",
      "userId": "15464465526827433624"
     },
     "user_tz": -330
    },
    "id": "kHqOfHEaeGY6",
    "outputId": "bce5147d-36f2-4e79-86bc-ad49ee08b4ce"
   },
   "outputs": [
    {
     "data": {
      "text/html": [
       "<div>\n",
       "<style scoped>\n",
       "    .dataframe tbody tr th:only-of-type {\n",
       "        vertical-align: middle;\n",
       "    }\n",
       "\n",
       "    .dataframe tbody tr th {\n",
       "        vertical-align: top;\n",
       "    }\n",
       "\n",
       "    .dataframe thead th {\n",
       "        text-align: right;\n",
       "    }\n",
       "</style>\n",
       "<table border=\"1\" class=\"dataframe\">\n",
       "  <thead>\n",
       "    <tr style=\"text-align: right;\">\n",
       "      <th></th>\n",
       "      <th>Category</th>\n",
       "      <th>Resume</th>\n",
       "    </tr>\n",
       "  </thead>\n",
       "  <tbody>\n",
       "    <tr>\n",
       "      <th>0</th>\n",
       "      <td>Data Science</td>\n",
       "      <td>Skills * Programming Languages: Python (pandas...</td>\n",
       "    </tr>\n",
       "    <tr>\n",
       "      <th>1</th>\n",
       "      <td>Data Science</td>\n",
       "      <td>Education Details \\r\\nMay 2013 to May 2017 B.E...</td>\n",
       "    </tr>\n",
       "    <tr>\n",
       "      <th>2</th>\n",
       "      <td>Data Science</td>\n",
       "      <td>Areas of Interest Deep Learning, Control Syste...</td>\n",
       "    </tr>\n",
       "    <tr>\n",
       "      <th>3</th>\n",
       "      <td>Data Science</td>\n",
       "      <td>Skills â¢ R â¢ Python â¢ SAP HANA â¢ Table...</td>\n",
       "    </tr>\n",
       "    <tr>\n",
       "      <th>4</th>\n",
       "      <td>Data Science</td>\n",
       "      <td>Education Details \\r\\n MCA   YMCAUST,  Faridab...</td>\n",
       "    </tr>\n",
       "    <tr>\n",
       "      <th>...</th>\n",
       "      <td>...</td>\n",
       "      <td>...</td>\n",
       "    </tr>\n",
       "    <tr>\n",
       "      <th>959</th>\n",
       "      <td>Testing</td>\n",
       "      <td>PERSONAL SKILLS â¢ Quick learner, â¢ Eagerne...</td>\n",
       "    </tr>\n",
       "    <tr>\n",
       "      <th>960</th>\n",
       "      <td>Testing</td>\n",
       "      <td>COMPUTER SKILLS &amp; SOFTWARE KNOWLEDGE MS-Power ...</td>\n",
       "    </tr>\n",
       "    <tr>\n",
       "      <th>961</th>\n",
       "      <td>Testing</td>\n",
       "      <td>Skill Set OS Windows XP/7/8/8.1/10 Database MY...</td>\n",
       "    </tr>\n",
       "    <tr>\n",
       "      <th>962</th>\n",
       "      <td>Java Developer</td>\n",
       "      <td>Mustafa Officewala Room no.13, Jaya Apartment,...</td>\n",
       "    </tr>\n",
       "    <tr>\n",
       "      <th>963</th>\n",
       "      <td>Java Developer</td>\n",
       "      <td>Mustafa Officewala Room no.13, Jaya Apartment,...</td>\n",
       "    </tr>\n",
       "  </tbody>\n",
       "</table>\n",
       "<p>964 rows × 2 columns</p>\n",
       "</div>"
      ],
      "text/plain": [
       "           Category                                             Resume\n",
       "0      Data Science  Skills * Programming Languages: Python (pandas...\n",
       "1      Data Science  Education Details \\r\\nMay 2013 to May 2017 B.E...\n",
       "2      Data Science  Areas of Interest Deep Learning, Control Syste...\n",
       "3      Data Science  Skills â¢ R â¢ Python â¢ SAP HANA â¢ Table...\n",
       "4      Data Science  Education Details \\r\\n MCA   YMCAUST,  Faridab...\n",
       "..              ...                                                ...\n",
       "959         Testing  PERSONAL SKILLS â¢ Quick learner, â¢ Eagerne...\n",
       "960         Testing  COMPUTER SKILLS & SOFTWARE KNOWLEDGE MS-Power ...\n",
       "961         Testing  Skill Set OS Windows XP/7/8/8.1/10 Database MY...\n",
       "962  Java Developer  Mustafa Officewala Room no.13, Jaya Apartment,...\n",
       "963  Java Developer  Mustafa Officewala Room no.13, Jaya Apartment,...\n",
       "\n",
       "[964 rows x 2 columns]"
      ]
     },
     "execution_count": 9,
     "metadata": {},
     "output_type": "execute_result"
    }
   ],
   "source": [
    "resumeData"
   ]
  },
  {
   "cell_type": "code",
   "execution_count": 10,
   "metadata": {
    "executionInfo": {
     "elapsed": 704,
     "status": "ok",
     "timestamp": 1681578154384,
     "user": {
      "displayName": "U20CS004 SHAH DHRUMI ANKURBHAI",
      "userId": "15464465526827433624"
     },
     "user_tz": -330
    },
    "id": "tRYnn23Xegy8"
   },
   "outputs": [],
   "source": [
    "import re\n",
    "def cleanResume(resumeText):\n",
    "    resumeText = re.sub('http[\\S+\\s]*', ' ', resumeText)  # remove URLs\n",
    "    resumeText = re.sub('RT|cc', ' ', resumeText)  # remove RT and cc\n",
    "    resumeText = re.sub('#\\S+', '', resumeText)  # remove hashtags\n",
    "    resumeText = re.sub('@\\S+', '  ', resumeText)  # remove mentions\n",
    "    resumeText = re.sub('[%s]' % re.escape(\"\"\"!\"#$%&'()*+,-./:;<=>?@[\\]^_`{|}~\"\"\"), ' ', resumeText)  # remove punctuations\n",
    "    resumeText = re.sub(r'[^\\x00-\\x7f]',r' ', resumeText) \n",
    "    resumeText = re.sub('\\s+', ' ', resumeText)  # remove extra whitespace\n",
    "    return resumeText\n",
    "    \n",
    "resumeData['cleaned_resume'] = resumeData.Resume.apply(lambda x: cleanResume(x))\n",
    "resumeData['cleaned_resume'] = resumeData['cleaned_resume'].str.lower()"
   ]
  },
  {
   "cell_type": "code",
   "execution_count": 11,
   "metadata": {
    "colab": {
     "base_uri": "https://localhost:8080/",
     "height": 571
    },
    "executionInfo": {
     "elapsed": 8,
     "status": "ok",
     "timestamp": 1681578156371,
     "user": {
      "displayName": "U20CS004 SHAH DHRUMI ANKURBHAI",
      "userId": "15464465526827433624"
     },
     "user_tz": -330
    },
    "id": "32i2To2cgQpj",
    "outputId": "7bc92022-020f-4ed6-fbb7-896d3eec3378"
   },
   "outputs": [
    {
     "data": {
      "text/html": [
       "<div>\n",
       "<style scoped>\n",
       "    .dataframe tbody tr th:only-of-type {\n",
       "        vertical-align: middle;\n",
       "    }\n",
       "\n",
       "    .dataframe tbody tr th {\n",
       "        vertical-align: top;\n",
       "    }\n",
       "\n",
       "    .dataframe thead th {\n",
       "        text-align: right;\n",
       "    }\n",
       "</style>\n",
       "<table border=\"1\" class=\"dataframe\">\n",
       "  <thead>\n",
       "    <tr style=\"text-align: right;\">\n",
       "      <th></th>\n",
       "      <th>Category</th>\n",
       "      <th>Resume</th>\n",
       "      <th>cleaned_resume</th>\n",
       "    </tr>\n",
       "  </thead>\n",
       "  <tbody>\n",
       "    <tr>\n",
       "      <th>0</th>\n",
       "      <td>Data Science</td>\n",
       "      <td>Skills * Programming Languages: Python (pandas...</td>\n",
       "      <td>skills programming languages python pandas num...</td>\n",
       "    </tr>\n",
       "    <tr>\n",
       "      <th>1</th>\n",
       "      <td>Data Science</td>\n",
       "      <td>Education Details \\r\\nMay 2013 to May 2017 B.E...</td>\n",
       "      <td>education details may 2013 to may 2017 b e uit...</td>\n",
       "    </tr>\n",
       "    <tr>\n",
       "      <th>2</th>\n",
       "      <td>Data Science</td>\n",
       "      <td>Areas of Interest Deep Learning, Control Syste...</td>\n",
       "      <td>areas of interest deep learning control system...</td>\n",
       "    </tr>\n",
       "    <tr>\n",
       "      <th>3</th>\n",
       "      <td>Data Science</td>\n",
       "      <td>Skills â¢ R â¢ Python â¢ SAP HANA â¢ Table...</td>\n",
       "      <td>skills r python sap hana tableau sap hana sql ...</td>\n",
       "    </tr>\n",
       "    <tr>\n",
       "      <th>4</th>\n",
       "      <td>Data Science</td>\n",
       "      <td>Education Details \\r\\n MCA   YMCAUST,  Faridab...</td>\n",
       "      <td>education details mca ymcaust faridabad haryan...</td>\n",
       "    </tr>\n",
       "    <tr>\n",
       "      <th>...</th>\n",
       "      <td>...</td>\n",
       "      <td>...</td>\n",
       "      <td>...</td>\n",
       "    </tr>\n",
       "    <tr>\n",
       "      <th>959</th>\n",
       "      <td>Testing</td>\n",
       "      <td>PERSONAL SKILLS â¢ Quick learner, â¢ Eagerne...</td>\n",
       "      <td>personal skills quick learner eagerness to lea...</td>\n",
       "    </tr>\n",
       "    <tr>\n",
       "      <th>960</th>\n",
       "      <td>Testing</td>\n",
       "      <td>COMPUTER SKILLS &amp; SOFTWARE KNOWLEDGE MS-Power ...</td>\n",
       "      <td>computer skills software knowledge ms power po...</td>\n",
       "    </tr>\n",
       "    <tr>\n",
       "      <th>961</th>\n",
       "      <td>Testing</td>\n",
       "      <td>Skill Set OS Windows XP/7/8/8.1/10 Database MY...</td>\n",
       "      <td>skill set os windows xp 7 8 8 1 10 database my...</td>\n",
       "    </tr>\n",
       "    <tr>\n",
       "      <th>962</th>\n",
       "      <td>Java Developer</td>\n",
       "      <td>Mustafa Officewala Room no.13, Jaya Apartment,...</td>\n",
       "      <td>mustafa officewala room no 13 jaya apartment t...</td>\n",
       "    </tr>\n",
       "    <tr>\n",
       "      <th>963</th>\n",
       "      <td>Java Developer</td>\n",
       "      <td>Mustafa Officewala Room no.13, Jaya Apartment,...</td>\n",
       "      <td>mustafa officewala room no 13 jaya apartment t...</td>\n",
       "    </tr>\n",
       "  </tbody>\n",
       "</table>\n",
       "<p>964 rows × 3 columns</p>\n",
       "</div>"
      ],
      "text/plain": [
       "           Category                                             Resume  \\\n",
       "0      Data Science  Skills * Programming Languages: Python (pandas...   \n",
       "1      Data Science  Education Details \\r\\nMay 2013 to May 2017 B.E...   \n",
       "2      Data Science  Areas of Interest Deep Learning, Control Syste...   \n",
       "3      Data Science  Skills â¢ R â¢ Python â¢ SAP HANA â¢ Table...   \n",
       "4      Data Science  Education Details \\r\\n MCA   YMCAUST,  Faridab...   \n",
       "..              ...                                                ...   \n",
       "959         Testing  PERSONAL SKILLS â¢ Quick learner, â¢ Eagerne...   \n",
       "960         Testing  COMPUTER SKILLS & SOFTWARE KNOWLEDGE MS-Power ...   \n",
       "961         Testing  Skill Set OS Windows XP/7/8/8.1/10 Database MY...   \n",
       "962  Java Developer  Mustafa Officewala Room no.13, Jaya Apartment,...   \n",
       "963  Java Developer  Mustafa Officewala Room no.13, Jaya Apartment,...   \n",
       "\n",
       "                                        cleaned_resume  \n",
       "0    skills programming languages python pandas num...  \n",
       "1    education details may 2013 to may 2017 b e uit...  \n",
       "2    areas of interest deep learning control system...  \n",
       "3    skills r python sap hana tableau sap hana sql ...  \n",
       "4    education details mca ymcaust faridabad haryan...  \n",
       "..                                                 ...  \n",
       "959  personal skills quick learner eagerness to lea...  \n",
       "960  computer skills software knowledge ms power po...  \n",
       "961  skill set os windows xp 7 8 8 1 10 database my...  \n",
       "962  mustafa officewala room no 13 jaya apartment t...  \n",
       "963  mustafa officewala room no 13 jaya apartment t...  \n",
       "\n",
       "[964 rows x 3 columns]"
      ]
     },
     "execution_count": 11,
     "metadata": {},
     "output_type": "execute_result"
    }
   ],
   "source": [
    "resumeData"
   ]
  },
  {
   "cell_type": "code",
   "execution_count": 13,
   "metadata": {},
   "outputs": [],
   "source": [
    "import nltk"
   ]
  },
  {
   "cell_type": "code",
   "execution_count": 14,
   "metadata": {
    "executionInfo": {
     "elapsed": 4,
     "status": "ok",
     "timestamp": 1681578160419,
     "user": {
      "displayName": "U20CS004 SHAH DHRUMI ANKURBHAI",
      "userId": "15464465526827433624"
     },
     "user_tz": -330
    },
    "id": "NKftsqI91CHs"
   },
   "outputs": [],
   "source": [
    "from nltk.corpus import stopwords\n",
    "from nltk.tokenize import word_tokenize,sent_tokenize\n",
    "from nltk.stem import WordNetLemmatizer\n",
    "from nltk import tokenize"
   ]
  },
  {
   "cell_type": "code",
   "execution_count": 15,
   "metadata": {
    "colab": {
     "base_uri": "https://localhost:8080/"
    },
    "executionInfo": {
     "elapsed": 715,
     "status": "ok",
     "timestamp": 1681578162279,
     "user": {
      "displayName": "U20CS004 SHAH DHRUMI ANKURBHAI",
      "userId": "15464465526827433624"
     },
     "user_tz": -330
    },
    "id": "eJltIdxfz8pZ",
    "outputId": "b9f666a0-e2f6-45a8-a3d4-c172c38ceff9"
   },
   "outputs": [
    {
     "name": "stdout",
     "output_type": "stream",
     "text": [
      "{'she', 'being', 'isn', 'your', \"doesn't\", 'but', 'above', 'few', 'out', \"shouldn't\", \"wasn't\", 'hasn', 'can', \"needn't\", 'had', 'weren', 'off', 'him', 'this', 'at', 'why', 'other', 'only', 'll', 'her', 'he', 'once', 'my', 'until', \"hadn't\", 'ourselves', 'further', 't', 'y', 'haven', 'will', 'these', 'didn', 'against', \"couldn't\", \"should've\", 'his', \"shan't\", 'not', 'its', 'themselves', 'of', 'up', 'same', 'm', \"mustn't\", 're', \"you've\", 'when', 'should', 'our', 'ma', \"weren't\", 'aren', \"she's\", 'hers', 'am', 'very', 'do', 'is', \"hasn't\", 'they', \"wouldn't\", 'was', 'no', 'between', 'below', 'here', 'mustn', 'have', 'through', 'into', 'about', 'them', 'mightn', 'any', 'doesn', 'there', 'wouldn', 'to', 'has', 'i', 'ain', 'itself', 'herself', 'does', 'own', 'on', 'theirs', 'that', 'been', 'because', 'more', 'in', 'were', \"didn't\", 'won', \"mightn't\", 'and', 'if', 'with', \"haven't\", 'don', 'o', 'then', 'during', 'where', 'yours', 'down', \"it's\", 'couldn', 'from', \"you'll\", 'a', \"you'd\", 'are', 'nor', 'hadn', 'having', \"that'll\", 'each', 'doing', 'for', \"won't\", 'myself', 'those', 'whom', 'be', 'an', 'which', 'after', 'again', 'such', \"''\", 'it', 's', 'than', 'the', 'some', 'both', 'who', 'by', \"don't\", 'now', 'yourself', '``', 'so', 'how', 'yourselves', 'too', 'as', 'ours', 'over', 'himself', 've', 'we', 'or', \"aren't\", 'wasn', 'all', 'did', 'd', \"isn't\", 'most', 'their', 'before', 'needn', 'while', 'what', 'you', \"you're\", 'under', 'shouldn', 'shan', 'me', 'just'}\n"
     ]
    }
   ],
   "source": [
    "stopword_list = set(stopwords.words('english')+['``',\"''\"])\n",
    "print(stopword_list)"
   ]
  },
  {
   "cell_type": "code",
   "execution_count": 16,
   "metadata": {
    "colab": {
     "base_uri": "https://localhost:8080/",
     "height": 122
    },
    "executionInfo": {
     "elapsed": 781,
     "status": "ok",
     "timestamp": 1681578164667,
     "user": {
      "displayName": "U20CS004 SHAH DHRUMI ANKURBHAI",
      "userId": "15464465526827433624"
     },
     "user_tz": -330
    },
    "id": "COgnpexi0W5s",
    "outputId": "a4d1d306-01e0-436b-ced9-e791c94234b7"
   },
   "outputs": [
    {
     "data": {
      "text/plain": [
       "'skills c basics iot python matlab data science machine learning html microsoft word microsoft excel microsoft powerpoint recognition academic secured first place b tech education details august 2014 may 2018 b tech ghatkesar andhra pradesh aurora scientific technological institute june 2012 may 2014 secondary education warangal telangana sr junior college data science skill details ms office exprience less 1 year months c exprience less 1 year months machine learning exprience less 1 year months data science exprience less 1 year months matlab exprience less 1 year monthscompany details company description'"
      ]
     },
     "execution_count": 16,
     "metadata": {},
     "output_type": "execute_result"
    }
   ],
   "source": [
    "resumeData.cleaned_resume=resumeData.cleaned_resume.apply(lambda x : \" \".join(x for x in x.split() if x not in stopword_list))\n",
    "resumeData['cleaned_resume'][5]"
   ]
  },
  {
   "cell_type": "code",
   "execution_count": 17,
   "metadata": {
    "executionInfo": {
     "elapsed": 5102,
     "status": "ok",
     "timestamp": 1681578169763,
     "user": {
      "displayName": "U20CS004 SHAH DHRUMI ANKURBHAI",
      "userId": "15464465526827433624"
     },
     "user_tz": -330
    },
    "id": "W4XLUPUO01r_"
   },
   "outputs": [],
   "source": [
    "resumeData['cleaned_resume']=resumeData.cleaned_resume.apply(word_tokenize)"
   ]
  },
  {
   "cell_type": "code",
   "execution_count": 18,
   "metadata": {
    "colab": {
     "base_uri": "https://localhost:8080/",
     "height": 571
    },
    "executionInfo": {
     "elapsed": 6432,
     "status": "ok",
     "timestamp": 1681578176191,
     "user": {
      "displayName": "U20CS004 SHAH DHRUMI ANKURBHAI",
      "userId": "15464465526827433624"
     },
     "user_tz": -330
    },
    "id": "PdmPoevR1Q6t",
    "outputId": "6e1fc4ab-461c-4ab7-fdd1-adc80bade916"
   },
   "outputs": [
    {
     "data": {
      "text/html": [
       "<div>\n",
       "<style scoped>\n",
       "    .dataframe tbody tr th:only-of-type {\n",
       "        vertical-align: middle;\n",
       "    }\n",
       "\n",
       "    .dataframe tbody tr th {\n",
       "        vertical-align: top;\n",
       "    }\n",
       "\n",
       "    .dataframe thead th {\n",
       "        text-align: right;\n",
       "    }\n",
       "</style>\n",
       "<table border=\"1\" class=\"dataframe\">\n",
       "  <thead>\n",
       "    <tr style=\"text-align: right;\">\n",
       "      <th></th>\n",
       "      <th>Category</th>\n",
       "      <th>Resume</th>\n",
       "      <th>cleaned_resume</th>\n",
       "    </tr>\n",
       "  </thead>\n",
       "  <tbody>\n",
       "    <tr>\n",
       "      <th>0</th>\n",
       "      <td>Data Science</td>\n",
       "      <td>Skills * Programming Languages: Python (pandas...</td>\n",
       "      <td>[skill, programming, language, python, panda, ...</td>\n",
       "    </tr>\n",
       "    <tr>\n",
       "      <th>1</th>\n",
       "      <td>Data Science</td>\n",
       "      <td>Education Details \\r\\nMay 2013 to May 2017 B.E...</td>\n",
       "      <td>[education, detail, may, 2013, may, 2017, b, e...</td>\n",
       "    </tr>\n",
       "    <tr>\n",
       "      <th>2</th>\n",
       "      <td>Data Science</td>\n",
       "      <td>Areas of Interest Deep Learning, Control Syste...</td>\n",
       "      <td>[area, interest, deep, learning, control, syst...</td>\n",
       "    </tr>\n",
       "    <tr>\n",
       "      <th>3</th>\n",
       "      <td>Data Science</td>\n",
       "      <td>Skills â¢ R â¢ Python â¢ SAP HANA â¢ Table...</td>\n",
       "      <td>[skill, r, python, sap, hana, tableau, sap, ha...</td>\n",
       "    </tr>\n",
       "    <tr>\n",
       "      <th>4</th>\n",
       "      <td>Data Science</td>\n",
       "      <td>Education Details \\r\\n MCA   YMCAUST,  Faridab...</td>\n",
       "      <td>[education, detail, mca, ymcaust, faridabad, h...</td>\n",
       "    </tr>\n",
       "    <tr>\n",
       "      <th>...</th>\n",
       "      <td>...</td>\n",
       "      <td>...</td>\n",
       "      <td>...</td>\n",
       "    </tr>\n",
       "    <tr>\n",
       "      <th>959</th>\n",
       "      <td>Testing</td>\n",
       "      <td>PERSONAL SKILLS â¢ Quick learner, â¢ Eagerne...</td>\n",
       "      <td>[personal, skill, quick, learner, eagerness, l...</td>\n",
       "    </tr>\n",
       "    <tr>\n",
       "      <th>960</th>\n",
       "      <td>Testing</td>\n",
       "      <td>COMPUTER SKILLS &amp; SOFTWARE KNOWLEDGE MS-Power ...</td>\n",
       "      <td>[computer, skill, software, knowledge, m, powe...</td>\n",
       "    </tr>\n",
       "    <tr>\n",
       "      <th>961</th>\n",
       "      <td>Testing</td>\n",
       "      <td>Skill Set OS Windows XP/7/8/8.1/10 Database MY...</td>\n",
       "      <td>[skill, set, o, window, xp, 7, 8, 8, 1, 10, da...</td>\n",
       "    </tr>\n",
       "    <tr>\n",
       "      <th>962</th>\n",
       "      <td>Java Developer</td>\n",
       "      <td>Mustafa Officewala Room no.13, Jaya Apartment,...</td>\n",
       "      <td>[mustafa, officewala, room, 13, jaya, apartmen...</td>\n",
       "    </tr>\n",
       "    <tr>\n",
       "      <th>963</th>\n",
       "      <td>Java Developer</td>\n",
       "      <td>Mustafa Officewala Room no.13, Jaya Apartment,...</td>\n",
       "      <td>[mustafa, officewala, room, 13, jaya, apartmen...</td>\n",
       "    </tr>\n",
       "  </tbody>\n",
       "</table>\n",
       "<p>964 rows × 3 columns</p>\n",
       "</div>"
      ],
      "text/plain": [
       "           Category                                             Resume  \\\n",
       "0      Data Science  Skills * Programming Languages: Python (pandas...   \n",
       "1      Data Science  Education Details \\r\\nMay 2013 to May 2017 B.E...   \n",
       "2      Data Science  Areas of Interest Deep Learning, Control Syste...   \n",
       "3      Data Science  Skills â¢ R â¢ Python â¢ SAP HANA â¢ Table...   \n",
       "4      Data Science  Education Details \\r\\n MCA   YMCAUST,  Faridab...   \n",
       "..              ...                                                ...   \n",
       "959         Testing  PERSONAL SKILLS â¢ Quick learner, â¢ Eagerne...   \n",
       "960         Testing  COMPUTER SKILLS & SOFTWARE KNOWLEDGE MS-Power ...   \n",
       "961         Testing  Skill Set OS Windows XP/7/8/8.1/10 Database MY...   \n",
       "962  Java Developer  Mustafa Officewala Room no.13, Jaya Apartment,...   \n",
       "963  Java Developer  Mustafa Officewala Room no.13, Jaya Apartment,...   \n",
       "\n",
       "                                        cleaned_resume  \n",
       "0    [skill, programming, language, python, panda, ...  \n",
       "1    [education, detail, may, 2013, may, 2017, b, e...  \n",
       "2    [area, interest, deep, learning, control, syst...  \n",
       "3    [skill, r, python, sap, hana, tableau, sap, ha...  \n",
       "4    [education, detail, mca, ymcaust, faridabad, h...  \n",
       "..                                                 ...  \n",
       "959  [personal, skill, quick, learner, eagerness, l...  \n",
       "960  [computer, skill, software, knowledge, m, powe...  \n",
       "961  [skill, set, o, window, xp, 7, 8, 8, 1, 10, da...  \n",
       "962  [mustafa, officewala, room, 13, jaya, apartmen...  \n",
       "963  [mustafa, officewala, room, 13, jaya, apartmen...  \n",
       "\n",
       "[964 rows x 3 columns]"
      ]
     },
     "execution_count": 18,
     "metadata": {},
     "output_type": "execute_result"
    }
   ],
   "source": [
    "lemmatizer=WordNetLemmatizer()\n",
    "resumeData['cleaned_resume']=resumeData.cleaned_resume.apply(lambda x:[lemmatizer.lemmatize(word) for word in x])\n",
    "resumeData"
   ]
  },
  {
   "cell_type": "code",
   "execution_count": 19,
   "metadata": {
    "colab": {
     "base_uri": "https://localhost:8080/"
    },
    "executionInfo": {
     "elapsed": 14,
     "status": "ok",
     "timestamp": 1681578176192,
     "user": {
      "displayName": "U20CS004 SHAH DHRUMI ANKURBHAI",
      "userId": "15464465526827433624"
     },
     "user_tz": -330
    },
    "id": "vxakZZ_12BMJ",
    "outputId": "530c7560-29ab-470b-bfd9-c18eaee6fa67"
   },
   "outputs": [
    {
     "data": {
      "text/plain": [
       "(964,)"
      ]
     },
     "execution_count": 19,
     "metadata": {},
     "output_type": "execute_result"
    }
   ],
   "source": [
    "resumeData.cleaned_resume= resumeData.cleaned_resume.astype(str)\n",
    "cleaned_resume_list=resumeData['cleaned_resume'].array\n",
    "cleaned_resume_list.shape"
   ]
  },
  {
   "cell_type": "code",
   "execution_count": 20,
   "metadata": {
    "executionInfo": {
     "elapsed": 9,
     "status": "ok",
     "timestamp": 1681578176193,
     "user": {
      "displayName": "U20CS004 SHAH DHRUMI ANKURBHAI",
      "userId": "15464465526827433624"
     },
     "user_tz": -330
    },
    "id": "KBmF0LZe2VYc"
   },
   "outputs": [],
   "source": [
    "x = resumeData.iloc[:,1].values\n",
    "y = resumeData.iloc[:,0].values\n",
    "from sklearn.model_selection import train_test_split\n",
    "x_train,x_test,y_train,y_test = train_test_split(x,y,random_state=0,test_size=0.03)"
   ]
  },
  {
   "cell_type": "code",
   "execution_count": 21,
   "metadata": {
    "colab": {
     "base_uri": "https://localhost:8080/",
     "height": 124
    },
    "executionInfo": {
     "elapsed": 3761,
     "status": "ok",
     "timestamp": 1681578179946,
     "user": {
      "displayName": "U20CS004 SHAH DHRUMI ANKURBHAI",
      "userId": "15464465526827433624"
     },
     "user_tz": -330
    },
    "id": "PSwQ00222dbk",
    "outputId": "383deb7b-3e72-4906-8a54-59223d7cbdf2"
   },
   "outputs": [
    {
     "data": {
      "text/plain": [
       "Pipeline(steps=[('Vect', TfidfVectorizer()), ('model', SVC(probability=True))])"
      ]
     },
     "execution_count": 21,
     "metadata": {},
     "output_type": "execute_result"
    }
   ],
   "source": [
    "from sklearn.feature_extraction.text import TfidfVectorizer\n",
    "from sklearn.pipeline import Pipeline\n",
    "from sklearn.svm import SVC\n",
    "final = Pipeline([('Vect',TfidfVectorizer()), ('model',SVC(probability=True))])\n",
    "final.fit(x_train,y_train)"
   ]
  },
  {
   "cell_type": "code",
   "execution_count": 22,
   "metadata": {
    "executionInfo": {
     "elapsed": 14,
     "status": "ok",
     "timestamp": 1681578179947,
     "user": {
      "displayName": "U20CS004 SHAH DHRUMI ANKURBHAI",
      "userId": "15464465526827433624"
     },
     "user_tz": -330
    },
    "id": "IfGKJzc32mKY"
   },
   "outputs": [],
   "source": [
    "y_pred=final.predict(x_test)"
   ]
  },
  {
   "cell_type": "code",
   "execution_count": 23,
   "metadata": {
    "colab": {
     "base_uri": "https://localhost:8080/"
    },
    "executionInfo": {
     "elapsed": 14,
     "status": "ok",
     "timestamp": 1681578179948,
     "user": {
      "displayName": "U20CS004 SHAH DHRUMI ANKURBHAI",
      "userId": "15464465526827433624"
     },
     "user_tz": -330
    },
    "id": "b5px2Q5F8l7t",
    "outputId": "f7c86bc1-f157-4b86-a39a-169dfb31b2ec"
   },
   "outputs": [
    {
     "data": {
      "text/plain": [
       "1.0"
      ]
     },
     "execution_count": 23,
     "metadata": {},
     "output_type": "execute_result"
    }
   ],
   "source": [
    "from sklearn.metrics import accuracy_score\n",
    "accuracy_score(y_pred,y_test)"
   ]
  },
  {
   "cell_type": "code",
   "execution_count": 24,
   "metadata": {
    "colab": {
     "base_uri": "https://localhost:8080/"
    },
    "executionInfo": {
     "elapsed": 14,
     "status": "ok",
     "timestamp": 1681578179949,
     "user": {
      "displayName": "U20CS004 SHAH DHRUMI ANKURBHAI",
      "userId": "15464465526827433624"
     },
     "user_tz": -330
    },
    "id": "aSO7vzFt2uWW",
    "outputId": "d73ef576-6fc7-4290-9568-20462369d107"
   },
   "outputs": [
    {
     "data": {
      "text/plain": [
       "array(['Health and fitness'], dtype=object)"
      ]
     },
     "execution_count": 24,
     "metadata": {},
     "output_type": "execute_result"
    }
   ],
   "source": [
    "final.predict([x_test[1]])"
   ]
  },
  {
   "cell_type": "code",
   "execution_count": 25,
   "metadata": {
    "colab": {
     "base_uri": "https://localhost:8080/"
    },
    "executionInfo": {
     "elapsed": 5477,
     "status": "ok",
     "timestamp": 1681578195061,
     "user": {
      "displayName": "U20CS004 SHAH DHRUMI ANKURBHAI",
      "userId": "15464465526827433624"
     },
     "user_tz": -330
    },
    "id": "ro69SOGjlttL",
    "outputId": "b8e07033-7fd8-46d8-8c7d-e44596b0d6c7"
   },
   "outputs": [
    {
     "name": "stdout",
     "output_type": "stream",
     "text": [
      "S A R T H A K   C H A U H A N + 9 1 - 7 9 9 0 2 0 3 6 7 7 s a r t h a k c h a u h a n 5 7 9 @ g m a i l . c o m L i n k e d I n   P r o f i l e L e e t c o d e   P r o f i l e . E D U C A T I O N Sardar Vallabhbhai National Institute of Technology , Surat. (NIT Surat) B.Tech In Computer Science and Engineering.  CGPA - 8.75 Kendriya Vidyalaya, Vadodara. CBSE Class - 12th.  Score - 92.6% Kendriya Vidyalaya, Shillong. CBSE Class - 10th.  Score - 92% 2020 - 2024 March 2020 March  2018 S K I L L S Languages: C, C++, Python, JavaScript. (DSA in C++). Web Development: MERN Stack (MongoDB, Express Server, React.js, Node.js) Developer Tools and Technologies: jQuery, Bootstrap, Github, and EJS. Core Subjects: Operating Systems, Computer Networks, DBMS, and OOPS. P R O F I L E S : Solved 350+ questions on leetcode with >75% of them in medium and hard categories. link. 600+ coding score on geeksforgeeks practice platform - link. P R O J E C T S : Auction E-Comm Website -  Bringing skilled local artisans online. Oct 22 Team project in MERN Stack + Firebase (Node.js, Express, React, MongoDB, and Firebase) Complete E-Commerce Website with Admin Dashboard, Cart, Payment, Authentication, etc. Real-time auction and self-implemented recommendation system. 3 min Video Demonstration (All India Rank-9 in National Youth Conclave Hackathon IIT-J). Attendance  Tracker - MongoDB, Express, React.js, and Node.js. Feb 23 Attendance made easy. Mark attendance of students with just one click. Features: Pie and Bar Charts to show attendace, nodemailer, both for Admin and students. Weather  App - Node.js, Express Server, EJS Jun 22 Fetched real-time weather data through API on the express server. Displayed data dynamically through EJS view engine. T E A M W O R K   E X P E R I E N C E : Dec 2021-Mar 2022 Bluelearn - A student community funded by Titan Capitals and others. Worked directly under the founder featured in Forbes 30 under 30. Assisted them in changing to a new dark theme UI (Currently in use) Community size is increased by 110% to 100K+ after changing to the new UI. A C H I E V E M E N T S   A N D   I N T E R E S T S : All India Rank 9 in Youth Conclave National Hackathon held in IIT-Jodhpur. Participated in a national-level Inter-NIT football tournament held in NIT-Rourkela. Freelance work in UI Designing with 5+ clients. - My LinkedIn recommendations. 2 consecutive posts on linkedin about UI got 1 Million+ views - Post link.\n"
     ]
    }
   ],
   "source": [
    "import pdfminer\n",
    "from pdfminer.high_level import extract_text\n",
    "text = extract_text('example.pdf')\n",
    "lines = text.split('\\n') # Split text into lines\n",
    "lines = [line.strip() for line in lines if line.strip()] # Remove empty lines and leading/trailing spaces\n",
    "text = ' '.join(lines) # Join lines with space separator\n",
    "print(text)"
   ]
  },
  {
   "cell_type": "code",
   "execution_count": 26,
   "metadata": {
    "colab": {
     "base_uri": "https://localhost:8080/"
    },
    "executionInfo": {
     "elapsed": 5,
     "status": "ok",
     "timestamp": 1681578197274,
     "user": {
      "displayName": "U20CS004 SHAH DHRUMI ANKURBHAI",
      "userId": "15464465526827433624"
     },
     "user_tz": -330
    },
    "id": "10B4nnIdsyB4",
    "outputId": "591379d2-c422-4492-ed60-7b2bee2a8e9f"
   },
   "outputs": [
    {
     "name": "stdout",
     "output_type": "stream",
     "text": [
      "['s a r t h a k c h a u h a n 9 1 7 9 9 0 2 0 3 6 7 7 s a r t h a k c h a u h a n 5 7 9 g m a i l c o m l i n k e d i n p r o f i l e l e e t c o d e p r o f i l e e d u c a t i o n sardar vallabhbhai national institute of technology surat nit surat b tech in computer science and engineering cgpa 8 75 kendriya vidyalaya vadodara cbse class 12th score 92 6 kendriya vidyalaya shillong cbse class 10th score 92 2020 2024 march 2020 march 2018 s k i l l s languages c c python javascript dsa in c web development mern stack mongodb express server react js node js developer tools and technologies jquery bootstrap github and ejs core subjects operating systems computer networks dbms and oops p r o f i l e s solved 350 questions on leetcode with 75 of them in medium and hard categories link 600 coding score on geeksforgeeks practice platform link p r o j e c t s auction e comm website bringing skilled local artisans online oct 22 team project in mern stack firebase node js express react mongodb and firebase complete e commerce website with admin dashboard cart payment authentication etc real time auction and self implemented recommendation system 3 min video demonstration all india rank 9 in national youth conclave hackathon iit j attendance tracker mongodb express react js and node js feb 23 attendance made easy mark attendance of students with just one click features pie and bar charts to show attendace nodemailer both for admin and students weather app node js express server ejs jun 22 fetched real time weather data through api on the express server displayed data dynamically through ejs view engine t e a m w o r k e x p e r i e n c e dec 2021 mar 2022 bluelearn a student community funded by titan capitals and others worked directly under the founder featured in forbes 30 under 30 assisted them in changing to a new dark theme ui currently in use community size is increased by 110 to 100k after changing to the new ui a c h i e v e m e n t s a n d i n t e r e s t s all india rank 9 in youth conclave national hackathon held in iit jodhpur participated in a national level inter nit football tournament held in nit rourkela freelance work in ui designing with 5 clients my linkedin recommendations 2 consecutive posts on linkedin about ui got 1 million views post link ']\n"
     ]
    }
   ],
   "source": [
    "cleaned_text = text.lower()\n",
    "cleaned_text = cleanResume(cleaned_text)\n",
    "print([cleaned_text])"
   ]
  },
  {
   "cell_type": "code",
   "execution_count": 27,
   "metadata": {
    "colab": {
     "base_uri": "https://localhost:8080/"
    },
    "executionInfo": {
     "elapsed": 5,
     "status": "ok",
     "timestamp": 1681578201703,
     "user": {
      "displayName": "U20CS004 SHAH DHRUMI ANKURBHAI",
      "userId": "15464465526827433624"
     },
     "user_tz": -330
    },
    "id": "Qq2s-pyNgA6B",
    "outputId": "c348026a-f1f5-4696-88d0-a14a6ed57af2"
   },
   "outputs": [
    {
     "name": "stdout",
     "output_type": "stream",
     "text": [
      "['Java Developer']\n",
      "Java Developer\n"
     ]
    }
   ],
   "source": [
    "predicted=final.predict([cleaned_text])\n",
    "print(predicted)\n",
    "predict = ''.join(predicted)\n",
    "print(predict)"
   ]
  },
  {
   "cell_type": "code",
   "execution_count": null,
   "metadata": {
    "id": "8ORQBTGMpUVm"
   },
   "outputs": [],
   "source": [
    "import csv\n",
    "with open('ResumeDataSet.csv', 'a') as file:\n",
    "    writer = csv.writer(file)\n",
    "    data = [predict, text]  # List of values to append\n",
    "    writer.writerow([data[0],data[1]])\n",
    "file.close()  # Close the file"
   ]
  },
  {
   "cell_type": "code",
   "execution_count": null,
   "metadata": {
    "colab": {
     "base_uri": "https://localhost:8080/"
    },
    "executionInfo": {
     "elapsed": 428,
     "status": "ok",
     "timestamp": 1681578907979,
     "user": {
      "displayName": "U20CS004 SHAH DHRUMI ANKURBHAI",
      "userId": "15464465526827433624"
     },
     "user_tz": -330
    },
    "id": "VogvwHR3zoWn",
    "outputId": "253e898d-1b5a-4e69-bfd1-fefa627fd3dd"
   },
   "outputs": [],
   "source": [
    "data1 = [predict,text,cleaned_text]\n",
    "new_row = pd.DataFrame([data1], columns=resumeData.columns)\n",
    "resumeData = resumeData.append(new_row, ignore_index=True)\n",
    "print(resumeData)"
   ]
  },
  {
   "cell_type": "code",
   "execution_count": null,
   "metadata": {
    "colab": {
     "base_uri": "https://localhost:8080/"
    },
    "executionInfo": {
     "elapsed": 935,
     "status": "ok",
     "timestamp": 1681578227466,
     "user": {
      "displayName": "U20CS004 SHAH DHRUMI ANKURBHAI",
      "userId": "15464465526827433624"
     },
     "user_tz": -330
    },
    "id": "iKRk8QXi0Y2j",
    "outputId": "387eb3c1-4c5f-4a9b-bc41-5a718c48f6e6"
   },
   "outputs": [],
   "source": [
    "resumeData.columns"
   ]
  },
  {
   "cell_type": "code",
   "execution_count": null,
   "metadata": {
    "colab": {
     "base_uri": "https://localhost:8080/"
    },
    "executionInfo": {
     "elapsed": 429,
     "status": "ok",
     "timestamp": 1681579716850,
     "user": {
      "displayName": "U20CS004 SHAH DHRUMI ANKURBHAI",
      "userId": "15464465526827433624"
     },
     "user_tz": -330
    },
    "id": "J5YJvRia9PQ9",
    "outputId": "f45435c0-6242-439c-c786-52b25bbafbaa"
   },
   "outputs": [],
   "source": [
    "len(resumeData)"
   ]
  },
  {
   "cell_type": "code",
   "execution_count": null,
   "metadata": {
    "executionInfo": {
     "elapsed": 440,
     "status": "ok",
     "timestamp": 1681579811205,
     "user": {
      "displayName": "U20CS004 SHAH DHRUMI ANKURBHAI",
      "userId": "15464465526827433624"
     },
     "user_tz": -330
    },
    "id": "rKJ2PDGc62QL"
   },
   "outputs": [],
   "source": [
    "import csv\n",
    "with open('ResumeDataSet.csv', 'a') as file:\n",
    "    for x in range(original_len, len(resumeData)):\n",
    "      writer = csv.writer(file)\n",
    "      data = [resumeData['Category'][x], resumeData['Resume'][x]]  # List of values to append\n",
    "      writer.writerow([data[0],data[1]])\n",
    "file.close()  # Close the file\n",
    "original_len = len(resumeData)"
   ]
  },
  {
   "cell_type": "code",
   "execution_count": null,
   "metadata": {},
   "outputs": [],
   "source": [
    "import pickle"
   ]
  },
  {
   "cell_type": "code",
   "execution_count": null,
   "metadata": {},
   "outputs": [],
   "source": [
    "pickle.dump(final,open('model.pkl','wb'))\n",
    "model=pickle.load(open('model.pkl','rb'))"
   ]
  }
 ],
 "metadata": {
  "colab": {
   "provenance": []
  },
  "kernelspec": {
   "display_name": "Python 3",
   "language": "python",
   "name": "python3"
  },
  "language_info": {
   "codemirror_mode": {
    "name": "ipython",
    "version": 3
   },
   "file_extension": ".py",
   "mimetype": "text/x-python",
   "name": "python",
   "nbconvert_exporter": "python",
   "pygments_lexer": "ipython3",
   "version": "3.8.8"
  }
 },
 "nbformat": 4,
 "nbformat_minor": 1
}
